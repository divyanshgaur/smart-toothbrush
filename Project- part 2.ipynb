{
 "cells": [
  {
   "cell_type": "code",
   "execution_count": 70,
   "metadata": {
    "collapsed": true
   },
   "outputs": [],
   "source": [
    "import pandas as pd\n"
   ]
  },
  {
   "cell_type": "code",
   "execution_count": 71,
   "metadata": {
    "collapsed": true
   },
   "outputs": [],
   "source": [
    "df= pd.read_csv('final.csv')"
   ]
  },
  {
   "cell_type": "code",
   "execution_count": 72,
   "metadata": {
    "collapsed": false
   },
   "outputs": [
    {
     "data": {
      "text/plain": [
       "(39, 21)"
      ]
     },
     "execution_count": 72,
     "metadata": {},
     "output_type": "execute_result"
    }
   ],
   "source": [
    "df.shape"
   ]
  },
  {
   "cell_type": "code",
   "execution_count": 73,
   "metadata": {
    "collapsed": false
   },
   "outputs": [
    {
     "data": {
      "text/html": [
       "<div>\n",
       "<style>\n",
       "    .dataframe thead tr:only-child th {\n",
       "        text-align: right;\n",
       "    }\n",
       "\n",
       "    .dataframe thead th {\n",
       "        text-align: left;\n",
       "    }\n",
       "\n",
       "    .dataframe tbody tr th {\n",
       "        vertical-align: top;\n",
       "    }\n",
       "</style>\n",
       "<table border=\"1\" class=\"dataframe\">\n",
       "  <thead>\n",
       "    <tr style=\"text-align: right;\">\n",
       "      <th></th>\n",
       "      <th>Unnamed: 0</th>\n",
       "      <th>Accel_X(f)</th>\n",
       "      <th>Accel_X(l)</th>\n",
       "      <th>Accel_X(ri)</th>\n",
       "      <th>Accel_y(f)</th>\n",
       "      <th>Accel_y(l)</th>\n",
       "      <th>Accel_y(ri)</th>\n",
       "      <th>Accel_z(f)</th>\n",
       "      <th>Accel_z(l)</th>\n",
       "      <th>Accel_z(ri)</th>\n",
       "      <th>...</th>\n",
       "      <th>Gyro_x(f)</th>\n",
       "      <th>Gyro_x(l)</th>\n",
       "      <th>Gyro_x(ri)</th>\n",
       "      <th>Gyro_y(f)</th>\n",
       "      <th>Gyro_y(l)</th>\n",
       "      <th>Gyro_y(ri)</th>\n",
       "      <th>Gyro_z(f)</th>\n",
       "      <th>Gyro_z(l)</th>\n",
       "      <th>Gyro_z(ri)</th>\n",
       "      <th>y</th>\n",
       "    </tr>\n",
       "  </thead>\n",
       "  <tbody>\n",
       "    <tr>\n",
       "      <th>0</th>\n",
       "      <td>0</td>\n",
       "      <td>-11899.689024</td>\n",
       "      <td>-13045.510204</td>\n",
       "      <td>13158.423077</td>\n",
       "      <td>2216.658537</td>\n",
       "      <td>2214.020408</td>\n",
       "      <td>8613.817308</td>\n",
       "      <td>-3744.195122</td>\n",
       "      <td>-5478.897959</td>\n",
       "      <td>5393.884615</td>\n",
       "      <td>...</td>\n",
       "      <td>-306.701220</td>\n",
       "      <td>528.979592</td>\n",
       "      <td>-185.461538</td>\n",
       "      <td>-357.073171</td>\n",
       "      <td>520.454082</td>\n",
       "      <td>292.634615</td>\n",
       "      <td>-774.243902</td>\n",
       "      <td>-353.198980</td>\n",
       "      <td>71.634615</td>\n",
       "      <td>1.0</td>\n",
       "    </tr>\n",
       "    <tr>\n",
       "      <th>1</th>\n",
       "      <td>1</td>\n",
       "      <td>-13941.373494</td>\n",
       "      <td>13941.672316</td>\n",
       "      <td>11340.184615</td>\n",
       "      <td>2508.963855</td>\n",
       "      <td>3471.977000</td>\n",
       "      <td>8450.717949</td>\n",
       "      <td>-4122.240964</td>\n",
       "      <td>-3702.621469</td>\n",
       "      <td>6058.051282</td>\n",
       "      <td>...</td>\n",
       "      <td>-445.259036</td>\n",
       "      <td>128.033898</td>\n",
       "      <td>-251.358974</td>\n",
       "      <td>286.897590</td>\n",
       "      <td>-71.983051</td>\n",
       "      <td>33.774359</td>\n",
       "      <td>44.813253</td>\n",
       "      <td>-65.372881</td>\n",
       "      <td>375.030769</td>\n",
       "      <td>0.0</td>\n",
       "    </tr>\n",
       "    <tr>\n",
       "      <th>2</th>\n",
       "      <td>2</td>\n",
       "      <td>-12547.962963</td>\n",
       "      <td>-12859.951807</td>\n",
       "      <td>9107.570621</td>\n",
       "      <td>1361.234568</td>\n",
       "      <td>3837.469880</td>\n",
       "      <td>10053.587571</td>\n",
       "      <td>-6075.555556</td>\n",
       "      <td>-4204.144578</td>\n",
       "      <td>4318.960452</td>\n",
       "      <td>...</td>\n",
       "      <td>-77.141975</td>\n",
       "      <td>-173.349000</td>\n",
       "      <td>-161.090395</td>\n",
       "      <td>586.154321</td>\n",
       "      <td>-162.753012</td>\n",
       "      <td>221.638418</td>\n",
       "      <td>-224.500000</td>\n",
       "      <td>-377.138554</td>\n",
       "      <td>281.627119</td>\n",
       "      <td>1.0</td>\n",
       "    </tr>\n",
       "    <tr>\n",
       "      <th>3</th>\n",
       "      <td>3</td>\n",
       "      <td>-12665.590278</td>\n",
       "      <td>-13697.440000</td>\n",
       "      <td>11358.660099</td>\n",
       "      <td>816.166667</td>\n",
       "      <td>3567.471264</td>\n",
       "      <td>8585.256158</td>\n",
       "      <td>-7267.944444</td>\n",
       "      <td>-3454.574713</td>\n",
       "      <td>6005.714286</td>\n",
       "      <td>...</td>\n",
       "      <td>-266.388889</td>\n",
       "      <td>-581.212644</td>\n",
       "      <td>-229.142857</td>\n",
       "      <td>640.375000</td>\n",
       "      <td>341.718391</td>\n",
       "      <td>88.635468</td>\n",
       "      <td>150.437500</td>\n",
       "      <td>-130.810345</td>\n",
       "      <td>327.413793</td>\n",
       "      <td>1.0</td>\n",
       "    </tr>\n",
       "    <tr>\n",
       "      <th>4</th>\n",
       "      <td>4</td>\n",
       "      <td>-13931.266272</td>\n",
       "      <td>-15088.837209</td>\n",
       "      <td>11712.122449</td>\n",
       "      <td>1572.710059</td>\n",
       "      <td>3401.302326</td>\n",
       "      <td>8967.841837</td>\n",
       "      <td>-4480.828402</td>\n",
       "      <td>238.139535</td>\n",
       "      <td>6396.653061</td>\n",
       "      <td>...</td>\n",
       "      <td>-374.976331</td>\n",
       "      <td>75.238372</td>\n",
       "      <td>-305.484694</td>\n",
       "      <td>-0.449704</td>\n",
       "      <td>113.616279</td>\n",
       "      <td>35.188776</td>\n",
       "      <td>-418.846154</td>\n",
       "      <td>-109.709302</td>\n",
       "      <td>280.321429</td>\n",
       "      <td>1.0</td>\n",
       "    </tr>\n",
       "  </tbody>\n",
       "</table>\n",
       "<p>5 rows × 21 columns</p>\n",
       "</div>"
      ],
      "text/plain": [
       "   Unnamed: 0    Accel_X(f)    Accel_X(l)   Accel_X(ri)   Accel_y(f)  \\\n",
       "0           0 -11899.689024 -13045.510204  13158.423077  2216.658537   \n",
       "1           1 -13941.373494  13941.672316  11340.184615  2508.963855   \n",
       "2           2 -12547.962963 -12859.951807   9107.570621  1361.234568   \n",
       "3           3 -12665.590278 -13697.440000  11358.660099   816.166667   \n",
       "4           4 -13931.266272 -15088.837209  11712.122449  1572.710059   \n",
       "\n",
       "    Accel_y(l)   Accel_y(ri)   Accel_z(f)   Accel_z(l)  Accel_z(ri) ...   \\\n",
       "0  2214.020408   8613.817308 -3744.195122 -5478.897959  5393.884615 ...    \n",
       "1  3471.977000   8450.717949 -4122.240964 -3702.621469  6058.051282 ...    \n",
       "2  3837.469880  10053.587571 -6075.555556 -4204.144578  4318.960452 ...    \n",
       "3  3567.471264   8585.256158 -7267.944444 -3454.574713  6005.714286 ...    \n",
       "4  3401.302326   8967.841837 -4480.828402   238.139535  6396.653061 ...    \n",
       "\n",
       "    Gyro_x(f)   Gyro_x(l)  Gyro_x(ri)   Gyro_y(f)   Gyro_y(l)  Gyro_y(ri)  \\\n",
       "0 -306.701220  528.979592 -185.461538 -357.073171  520.454082  292.634615   \n",
       "1 -445.259036  128.033898 -251.358974  286.897590  -71.983051   33.774359   \n",
       "2  -77.141975 -173.349000 -161.090395  586.154321 -162.753012  221.638418   \n",
       "3 -266.388889 -581.212644 -229.142857  640.375000  341.718391   88.635468   \n",
       "4 -374.976331   75.238372 -305.484694   -0.449704  113.616279   35.188776   \n",
       "\n",
       "    Gyro_z(f)   Gyro_z(l)  Gyro_z(ri)    y  \n",
       "0 -774.243902 -353.198980   71.634615  1.0  \n",
       "1   44.813253  -65.372881  375.030769  0.0  \n",
       "2 -224.500000 -377.138554  281.627119  1.0  \n",
       "3  150.437500 -130.810345  327.413793  1.0  \n",
       "4 -418.846154 -109.709302  280.321429  1.0  \n",
       "\n",
       "[5 rows x 21 columns]"
      ]
     },
     "execution_count": 73,
     "metadata": {},
     "output_type": "execute_result"
    }
   ],
   "source": [
    "df.head(5)"
   ]
  },
  {
   "cell_type": "code",
   "execution_count": 74,
   "metadata": {
    "collapsed": false
   },
   "outputs": [
    {
     "data": {
      "text/plain": [
       "Index(['Unnamed: 0', 'Accel_X(f)', 'Accel_X(l)', 'Accel_X(ri)', 'Accel_y(f)',\n",
       "       'Accel_y(l)', 'Accel_y(ri)', 'Accel_z(f)', 'Accel_z(l)', 'Accel_z(ri)',\n",
       "       'Force', 'Gyro_x(f)', 'Gyro_x(l)', 'Gyro_x(ri)', 'Gyro_y(f)',\n",
       "       'Gyro_y(l)', 'Gyro_y(ri)', 'Gyro_z(f)', 'Gyro_z(l)', 'Gyro_z(ri)', 'y'],\n",
       "      dtype='object')"
      ]
     },
     "execution_count": 74,
     "metadata": {},
     "output_type": "execute_result"
    }
   ],
   "source": [
    "df.columns"
   ]
  },
  {
   "cell_type": "code",
   "execution_count": 75,
   "metadata": {
    "collapsed": true
   },
   "outputs": [],
   "source": [
    "newdf=df.loc[:,['Accel_X(f)', 'Accel_X(l)', 'Accel_X(ri)', 'Accel_y(f)',\n",
    "       'Accel_y(l)', 'Accel_y(ri)', 'Accel_z(f)', 'Accel_z(l)', 'Accel_z(ri)',\n",
    "       'Force', 'Gyro_x(f)', 'Gyro_x(l)', 'Gyro_x(ri)', 'Gyro_y(f)',\n",
    "       'Gyro_y(l)', 'Gyro_y(ri)', 'Gyro_z(f)', 'Gyro_z(l)', 'Gyro_z(ri)', 'y']]"
   ]
  },
  {
   "cell_type": "code",
   "execution_count": 76,
   "metadata": {
    "collapsed": false
   },
   "outputs": [
    {
     "data": {
      "text/html": [
       "<div>\n",
       "<style>\n",
       "    .dataframe thead tr:only-child th {\n",
       "        text-align: right;\n",
       "    }\n",
       "\n",
       "    .dataframe thead th {\n",
       "        text-align: left;\n",
       "    }\n",
       "\n",
       "    .dataframe tbody tr th {\n",
       "        vertical-align: top;\n",
       "    }\n",
       "</style>\n",
       "<table border=\"1\" class=\"dataframe\">\n",
       "  <thead>\n",
       "    <tr style=\"text-align: right;\">\n",
       "      <th></th>\n",
       "      <th>Accel_X(f)</th>\n",
       "      <th>Accel_X(l)</th>\n",
       "      <th>Accel_X(ri)</th>\n",
       "      <th>Accel_y(f)</th>\n",
       "      <th>Accel_y(l)</th>\n",
       "      <th>Accel_y(ri)</th>\n",
       "      <th>Accel_z(f)</th>\n",
       "      <th>Accel_z(l)</th>\n",
       "      <th>Accel_z(ri)</th>\n",
       "      <th>Force</th>\n",
       "      <th>Gyro_x(f)</th>\n",
       "      <th>Gyro_x(l)</th>\n",
       "      <th>Gyro_x(ri)</th>\n",
       "      <th>Gyro_y(f)</th>\n",
       "      <th>Gyro_y(l)</th>\n",
       "      <th>Gyro_y(ri)</th>\n",
       "      <th>Gyro_z(f)</th>\n",
       "      <th>Gyro_z(l)</th>\n",
       "      <th>Gyro_z(ri)</th>\n",
       "      <th>y</th>\n",
       "    </tr>\n",
       "  </thead>\n",
       "  <tbody>\n",
       "    <tr>\n",
       "      <th>0</th>\n",
       "      <td>-11899.689024</td>\n",
       "      <td>-13045.510204</td>\n",
       "      <td>13158.423077</td>\n",
       "      <td>2216.658537</td>\n",
       "      <td>2214.020408</td>\n",
       "      <td>8613.817308</td>\n",
       "      <td>-3744.195122</td>\n",
       "      <td>-5478.897959</td>\n",
       "      <td>5393.884615</td>\n",
       "      <td>768.0478</td>\n",
       "      <td>-306.701220</td>\n",
       "      <td>528.979592</td>\n",
       "      <td>-185.461538</td>\n",
       "      <td>-357.073171</td>\n",
       "      <td>520.454082</td>\n",
       "      <td>292.634615</td>\n",
       "      <td>-774.243902</td>\n",
       "      <td>-353.198980</td>\n",
       "      <td>71.634615</td>\n",
       "      <td>1.0</td>\n",
       "    </tr>\n",
       "    <tr>\n",
       "      <th>1</th>\n",
       "      <td>-13941.373494</td>\n",
       "      <td>13941.672316</td>\n",
       "      <td>11340.184615</td>\n",
       "      <td>2508.963855</td>\n",
       "      <td>3471.977000</td>\n",
       "      <td>8450.717949</td>\n",
       "      <td>-4122.240964</td>\n",
       "      <td>-3702.621469</td>\n",
       "      <td>6058.051282</td>\n",
       "      <td>694.2300</td>\n",
       "      <td>-445.259036</td>\n",
       "      <td>128.033898</td>\n",
       "      <td>-251.358974</td>\n",
       "      <td>286.897590</td>\n",
       "      <td>-71.983051</td>\n",
       "      <td>33.774359</td>\n",
       "      <td>44.813253</td>\n",
       "      <td>-65.372881</td>\n",
       "      <td>375.030769</td>\n",
       "      <td>0.0</td>\n",
       "    </tr>\n",
       "    <tr>\n",
       "      <th>2</th>\n",
       "      <td>-12547.962963</td>\n",
       "      <td>-12859.951807</td>\n",
       "      <td>9107.570621</td>\n",
       "      <td>1361.234568</td>\n",
       "      <td>3837.469880</td>\n",
       "      <td>10053.587571</td>\n",
       "      <td>-6075.555556</td>\n",
       "      <td>-4204.144578</td>\n",
       "      <td>4318.960452</td>\n",
       "      <td>679.6300</td>\n",
       "      <td>-77.141975</td>\n",
       "      <td>-173.349000</td>\n",
       "      <td>-161.090395</td>\n",
       "      <td>586.154321</td>\n",
       "      <td>-162.753012</td>\n",
       "      <td>221.638418</td>\n",
       "      <td>-224.500000</td>\n",
       "      <td>-377.138554</td>\n",
       "      <td>281.627119</td>\n",
       "      <td>1.0</td>\n",
       "    </tr>\n",
       "    <tr>\n",
       "      <th>3</th>\n",
       "      <td>-12665.590278</td>\n",
       "      <td>-13697.440000</td>\n",
       "      <td>11358.660099</td>\n",
       "      <td>816.166667</td>\n",
       "      <td>3567.471264</td>\n",
       "      <td>8585.256158</td>\n",
       "      <td>-7267.944444</td>\n",
       "      <td>-3454.574713</td>\n",
       "      <td>6005.714286</td>\n",
       "      <td>622.5600</td>\n",
       "      <td>-266.388889</td>\n",
       "      <td>-581.212644</td>\n",
       "      <td>-229.142857</td>\n",
       "      <td>640.375000</td>\n",
       "      <td>341.718391</td>\n",
       "      <td>88.635468</td>\n",
       "      <td>150.437500</td>\n",
       "      <td>-130.810345</td>\n",
       "      <td>327.413793</td>\n",
       "      <td>1.0</td>\n",
       "    </tr>\n",
       "    <tr>\n",
       "      <th>4</th>\n",
       "      <td>-13931.266272</td>\n",
       "      <td>-15088.837209</td>\n",
       "      <td>11712.122449</td>\n",
       "      <td>1572.710059</td>\n",
       "      <td>3401.302326</td>\n",
       "      <td>8967.841837</td>\n",
       "      <td>-4480.828402</td>\n",
       "      <td>238.139535</td>\n",
       "      <td>6396.653061</td>\n",
       "      <td>524.8200</td>\n",
       "      <td>-374.976331</td>\n",
       "      <td>75.238372</td>\n",
       "      <td>-305.484694</td>\n",
       "      <td>-0.449704</td>\n",
       "      <td>113.616279</td>\n",
       "      <td>35.188776</td>\n",
       "      <td>-418.846154</td>\n",
       "      <td>-109.709302</td>\n",
       "      <td>280.321429</td>\n",
       "      <td>1.0</td>\n",
       "    </tr>\n",
       "  </tbody>\n",
       "</table>\n",
       "</div>"
      ],
      "text/plain": [
       "     Accel_X(f)    Accel_X(l)   Accel_X(ri)   Accel_y(f)   Accel_y(l)  \\\n",
       "0 -11899.689024 -13045.510204  13158.423077  2216.658537  2214.020408   \n",
       "1 -13941.373494  13941.672316  11340.184615  2508.963855  3471.977000   \n",
       "2 -12547.962963 -12859.951807   9107.570621  1361.234568  3837.469880   \n",
       "3 -12665.590278 -13697.440000  11358.660099   816.166667  3567.471264   \n",
       "4 -13931.266272 -15088.837209  11712.122449  1572.710059  3401.302326   \n",
       "\n",
       "    Accel_y(ri)   Accel_z(f)   Accel_z(l)  Accel_z(ri)     Force   Gyro_x(f)  \\\n",
       "0   8613.817308 -3744.195122 -5478.897959  5393.884615  768.0478 -306.701220   \n",
       "1   8450.717949 -4122.240964 -3702.621469  6058.051282  694.2300 -445.259036   \n",
       "2  10053.587571 -6075.555556 -4204.144578  4318.960452  679.6300  -77.141975   \n",
       "3   8585.256158 -7267.944444 -3454.574713  6005.714286  622.5600 -266.388889   \n",
       "4   8967.841837 -4480.828402   238.139535  6396.653061  524.8200 -374.976331   \n",
       "\n",
       "    Gyro_x(l)  Gyro_x(ri)   Gyro_y(f)   Gyro_y(l)  Gyro_y(ri)   Gyro_z(f)  \\\n",
       "0  528.979592 -185.461538 -357.073171  520.454082  292.634615 -774.243902   \n",
       "1  128.033898 -251.358974  286.897590  -71.983051   33.774359   44.813253   \n",
       "2 -173.349000 -161.090395  586.154321 -162.753012  221.638418 -224.500000   \n",
       "3 -581.212644 -229.142857  640.375000  341.718391   88.635468  150.437500   \n",
       "4   75.238372 -305.484694   -0.449704  113.616279   35.188776 -418.846154   \n",
       "\n",
       "    Gyro_z(l)  Gyro_z(ri)    y  \n",
       "0 -353.198980   71.634615  1.0  \n",
       "1  -65.372881  375.030769  0.0  \n",
       "2 -377.138554  281.627119  1.0  \n",
       "3 -130.810345  327.413793  1.0  \n",
       "4 -109.709302  280.321429  1.0  "
      ]
     },
     "execution_count": 76,
     "metadata": {},
     "output_type": "execute_result"
    }
   ],
   "source": [
    "newdf.head(5)"
   ]
  },
  {
   "cell_type": "markdown",
   "metadata": {},
   "source": [
    "## processing"
   ]
  },
  {
   "cell_type": "code",
   "execution_count": 77,
   "metadata": {
    "collapsed": true
   },
   "outputs": [],
   "source": [
    "from sklearn import preprocessing"
   ]
  },
  {
   "cell_type": "code",
   "execution_count": null,
   "metadata": {
    "collapsed": true
   },
   "outputs": [],
   "source": []
  },
  {
   "cell_type": "code",
   "execution_count": null,
   "metadata": {
    "collapsed": true
   },
   "outputs": [],
   "source": []
  },
  {
   "cell_type": "code",
   "execution_count": 105,
   "metadata": {
    "collapsed": true
   },
   "outputs": [],
   "source": [
    "from sklearn.model_selection import train_test_split\n",
    "X,Y=newdf.iloc[:,1:19].values, newdf.iloc[:,19].values\n",
    "X_train, X_test, Y_train, Y_test = train_test_split(X, Y, test_size=0.3)"
   ]
  },
  {
   "cell_type": "code",
   "execution_count": 106,
   "metadata": {
    "collapsed": true
   },
   "outputs": [],
   "source": [
    "from sklearn.preprocessing import MinMaxScaler\n",
    "MMS = MinMaxScaler()\n",
    "X_train_norm = MMS.fit_transform(X_train)\n",
    "X_test_norm= MMS.transform(X_test)"
   ]
  },
  {
   "cell_type": "code",
   "execution_count": 80,
   "metadata": {
    "collapsed": false
   },
   "outputs": [
    {
     "data": {
      "image/png": "[encoded data removed]",
      "text/plain": [
       "<matplotlib.figure.Figure at 0x22a531f8278>"
      ]
     },
     "metadata": {},
     "output_type": "display_data"
    }
   ],
   "source": [
    "from pandas.plotting import scatter_matrix\n",
    "import matplotlib.pyplot as plt\n",
    "import seaborn as sns\n",
    "% matplotlib inline\n",
    "\n",
    "plt.hist(X_train_norm)\n",
    "plt.show()"
   ]
  },
  {
   "cell_type": "code",
   "execution_count": 81,
   "metadata": {
    "collapsed": false
   },
   "outputs": [
    {
     "data": {
      "text/plain": [
       "array([-0.67927136,  0.39002871, -0.26595262, -0.54779518,  0.05270009,\n",
       "       -0.37946827, -0.65495521,  0.2206837 , -0.10500556,  0.30272702,\n",
       "       -0.14251712, -0.0658795 ,  1.62771672, -1.18823966,  0.45986489,\n",
       "       -0.20789558, -0.64302539,  1.18251865])"
      ]
     },
     "execution_count": 81,
     "metadata": {},
     "output_type": "execute_result"
    }
   ],
   "source": [
    "from sklearn.preprocessing import StandardScaler\n",
    "stdsc = StandardScaler()\n",
    "X_train_std = stdsc.fit_transform(X_train)\n",
    "X_test_std = stdsc.transform(X_test)\n",
    "X_train_std[0]"
   ]
  },
  {
   "cell_type": "code",
   "execution_count": 82,
   "metadata": {
    "collapsed": false
   },
   "outputs": [
    {
     "data": {
      "image/png": "[encoded data removed]",
      "text/plain": [
       "<matplotlib.figure.Figure at 0x22a53d5f860>"
      ]
     },
     "metadata": {},
     "output_type": "display_data"
    }
   ],
   "source": [
    "import matplotlib.pyplot as plt\n",
    "new = X_train_std\n",
    "plt.hist(new)\n",
    "plt.show()"
   ]
  },
  {
   "cell_type": "markdown",
   "metadata": {},
   "source": [
    "## logistic regression"
   ]
  },
  {
   "cell_type": "code",
   "execution_count": 121,
   "metadata": {
    "collapsed": true
   },
   "outputs": [],
   "source": [
    "from sklearn.cross_validation import train_test_split"
   ]
  },
  {
   "cell_type": "code",
   "execution_count": null,
   "metadata": {
    "collapsed": true
   },
   "outputs": [],
   "source": []
  },
  {
   "cell_type": "code",
   "execution_count": null,
   "metadata": {
    "collapsed": true
   },
   "outputs": [],
   "source": []
  },
  {
   "cell_type": "code",
   "execution_count": 84,
   "metadata": {
    "collapsed": true
   },
   "outputs": [],
   "source": []
  },
  {
   "cell_type": "code",
   "execution_count": 122,
   "metadata": {
    "collapsed": true
   },
   "outputs": [],
   "source": [
    "from sklearn.linear_model import LogisticRegression"
   ]
  },
  {
   "cell_type": "code",
   "execution_count": 123,
   "metadata": {
    "collapsed": true
   },
   "outputs": [],
   "source": [
    "lm= LogisticRegression(solver='newton-cg')"
   ]
  },
  {
   "cell_type": "code",
   "execution_count": 124,
   "metadata": {
    "collapsed": false
   },
   "outputs": [
    {
     "data": {
      "text/plain": [
       "LogisticRegression(C=1.0, class_weight=None, dual=False, fit_intercept=True,\n",
       "          intercept_scaling=1, max_iter=100, multi_class='ovr', n_jobs=1,\n",
       "          penalty='l2', random_state=None, solver='newton-cg', tol=0.0001,\n",
       "          verbose=0, warm_start=False)"
      ]
     },
     "execution_count": 124,
     "metadata": {},
     "output_type": "execute_result"
    }
   ],
   "source": [
    "lm.fit(X_train_norm,Y_train)"
   ]
  },
  {
   "cell_type": "code",
   "execution_count": 125,
   "metadata": {
    "collapsed": true
   },
   "outputs": [],
   "source": [
    "prediction=lm.predict(X_test_norm)"
   ]
  },
  {
   "cell_type": "code",
   "execution_count": 132,
   "metadata": {
    "collapsed": false
   },
   "outputs": [
    {
     "name": "stdout",
     "output_type": "stream",
     "text": [
      "             precision    recall  f1-score   support\n",
      "\n",
      "        0.0       1.00      0.40      0.57         5\n",
      "        1.0       0.70      1.00      0.82         7\n",
      "\n",
      "avg / total       0.82      0.75      0.72        12\n",
      "\n"
     ]
    }
   ],
   "source": [
    "from sklearn.metrics import classification_report\n",
    "print(classification_report(Y_test, prediction))"
   ]
  },
  {
   "cell_type": "markdown",
   "metadata": {},
   "source": [
    "## Naive Bayes"
   ]
  },
  {
   "cell_type": "code",
   "execution_count": 91,
   "metadata": {
    "collapsed": true
   },
   "outputs": [],
   "source": [
    "from sklearn.naive_bayes import GaussianNB\n"
   ]
  },
  {
   "cell_type": "code",
   "execution_count": 92,
   "metadata": {
    "collapsed": true
   },
   "outputs": [],
   "source": [
    "gnb = GaussianNB()"
   ]
  },
  {
   "cell_type": "code",
   "execution_count": 107,
   "metadata": {
    "collapsed": true
   },
   "outputs": [],
   "source": [
    "model = gnb.fit(X_train_norm,Y_train)"
   ]
  },
  {
   "cell_type": "code",
   "execution_count": 109,
   "metadata": {
    "collapsed": false
   },
   "outputs": [
    {
     "name": "stdout",
     "output_type": "stream",
     "text": [
      "[ 0.  1.  0.  1.  0.  1.  1.  1.  1.  0.  1.  1.]\n"
     ]
    }
   ],
   "source": [
    "preds = gnb.predict(X_test_norm)\n",
    "print(preds)\n",
    "\n"
   ]
  },
  {
   "cell_type": "code",
   "execution_count": 110,
   "metadata": {
    "collapsed": false
   },
   "outputs": [
    {
     "name": "stdout",
     "output_type": "stream",
     "text": [
      "0.916666666667\n"
     ]
    }
   ],
   "source": [
    "from sklearn.metrics import accuracy_score\n",
    "print(accuracy_score(Y_test, preds))\n"
   ]
  },
  {
   "cell_type": "code",
   "execution_count": 111,
   "metadata": {
    "collapsed": false
   },
   "outputs": [
    {
     "name": "stdout",
     "output_type": "stream",
     "text": [
      "0.914814814815\n",
      "0.911111111111\n",
      "0.916666666667\n",
      "[ 0.88888889  0.93333333]\n"
     ]
    }
   ],
   "source": [
    "from sklearn.metrics import f1_score\n",
    "print(f1_score(Y_test, preds, average='weighted'))\n",
    "print(f1_score(Y_test, preds, average='macro' ))\n",
    "print(f1_score(Y_test, preds, average='micro' ))\n",
    "print(f1_score(Y_test, preds, average=None ))\n"
   ]
  },
  {
   "cell_type": "code",
   "execution_count": 112,
   "metadata": {
    "collapsed": false
   },
   "outputs": [
    {
     "name": "stdout",
     "output_type": "stream",
     "text": [
      "0.927083333333\n",
      "0.9375\n",
      "0.916666666667\n",
      "[ 1.     0.875]\n"
     ]
    }
   ],
   "source": [
    "from sklearn.metrics import precision_score\n",
    "print(precision_score(Y_test,preds, average='weighted') )\n",
    "print(precision_score(Y_test,preds, average='macro')) \n",
    "print(precision_score(Y_test,preds, average='micro')) \n",
    "print(precision_score(Y_test,preds, average=None) )"
   ]
  },
  {
   "cell_type": "code",
   "execution_count": 113,
   "metadata": {
    "collapsed": false
   },
   "outputs": [
    {
     "name": "stdout",
     "output_type": "stream",
     "text": [
      "0.916666666667\n",
      "0.9\n",
      "0.916666666667\n",
      "[ 0.8  1. ]\n"
     ]
    }
   ],
   "source": [
    "from sklearn.metrics import recall_score\n",
    "print(recall_score(Y_test, preds, average='weighted'))\n",
    "print(recall_score(Y_test, preds, average='macro'))\n",
    "print(recall_score(Y_test, preds, average='micro'))\n",
    "print(recall_score(Y_test, preds, average=None))"
   ]
  },
  {
   "cell_type": "code",
   "execution_count": 114,
   "metadata": {
    "collapsed": false
   },
   "outputs": [
    {
     "name": "stdout",
     "output_type": "stream",
     "text": [
      "0.9\n"
     ]
    }
   ],
   "source": [
    "from sklearn.metrics import roc_auc_score\n",
    "print(roc_auc_score(Y_test, preds))\n"
   ]
  },
  {
   "cell_type": "code",
   "execution_count": 115,
   "metadata": {
    "collapsed": false
   },
   "outputs": [
    {
     "name": "stdout",
     "output_type": "stream",
     "text": [
      "2.87829799936\n"
     ]
    }
   ],
   "source": [
    "from sklearn.metrics import log_loss\n",
    "print(log_loss(Y_test, preds,labels=None))\n"
   ]
  },
  {
   "cell_type": "code",
   "execution_count": 116,
   "metadata": {
    "collapsed": false
   },
   "outputs": [
    {
     "name": "stdout",
     "output_type": "stream",
     "text": [
      "0.875\n"
     ]
    }
   ],
   "source": [
    "from sklearn.metrics import average_precision_score \n",
    "print(average_precision_score(Y_test, preds))"
   ]
  },
  {
   "cell_type": "code",
   "execution_count": 102,
   "metadata": {
    "collapsed": true
   },
   "outputs": [],
   "source": []
  },
  {
   "cell_type": "code",
   "execution_count": 103,
   "metadata": {
    "collapsed": true
   },
   "outputs": [],
   "source": []
  },
  {
   "cell_type": "code",
   "execution_count": null,
   "metadata": {
    "collapsed": true
   },
   "outputs": [],
   "source": []
  },
  {
   "cell_type": "code",
   "execution_count": null,
   "metadata": {
    "collapsed": true
   },
   "outputs": [],
   "source": []
  },
  {
   "cell_type": "code",
   "execution_count": null,
   "metadata": {
    "collapsed": true
   },
   "outputs": [],
   "source": []
  },
  {
   "cell_type": "code",
   "execution_count": null,
   "metadata": {
    "collapsed": true
   },
   "outputs": [],
   "source": []
  },
  {
   "cell_type": "code",
   "execution_count": null,
   "metadata": {
    "collapsed": true
   },
   "outputs": [],
   "source": []
  },
  {
   "cell_type": "code",
   "execution_count": null,
   "metadata": {
    "collapsed": true
   },
   "outputs": [],
   "source": []
  },
  {
   "cell_type": "code",
   "execution_count": null,
   "metadata": {
    "collapsed": true
   },
   "outputs": [],
   "source": []
  },
  {
   "cell_type": "code",
   "execution_count": null,
   "metadata": {
    "collapsed": true
   },
   "outputs": [],
   "source": []
  },
  {
   "cell_type": "code",
   "execution_count": null,
   "metadata": {
    "collapsed": true
   },
   "outputs": [],
   "source": []
  }
 ],
 "metadata": {
  "kernelspec": {
   "display_name": "Python 3",
   "language": "python",
   "name": "python3"
  },
  "language_info": {
   "codemirror_mode": {
    "name": "ipython",
    "version": 3
   },
   "file_extension": ".py",
   "mimetype": "text/x-python",
   "name": "python",
   "nbconvert_exporter": "python",
   "pygments_lexer": "ipython3",
   "version": "3.6.4"
  }
 },
 "nbformat": 4,
 "nbformat_minor": 2
}
