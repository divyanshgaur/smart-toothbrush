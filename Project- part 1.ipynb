{
 "cells": [
  {
   "cell_type": "code",
   "execution_count": 1,
   "metadata": {
    "collapsed": true
   },
   "outputs": [],
   "source": [
    "import pandas as pd"
   ]
  },
  {
   "cell_type": "code",
   "execution_count": 80,
   "metadata": {
    "collapsed": false
   },
   "outputs": [],
   "source": [
    "df=pd.read_excel('working dataset.xlsx')"
   ]
  },
  {
   "cell_type": "code",
   "execution_count": 81,
   "metadata": {
    "collapsed": false
   },
   "outputs": [
    {
     "data": {
      "text/html": [
       "<div>\n",
       "<style scoped>\n",
       "    .dataframe tbody tr th:only-of-type {\n",
       "        vertical-align: middle;\n",
       "    }\n",
       "\n",
       "    .dataframe tbody tr th {\n",
       "        vertical-align: top;\n",
       "    }\n",
       "\n",
       "    .dataframe thead th {\n",
       "        text-align: right;\n",
       "    }\n",
       "</style>\n",
       "<table border=\"1\" class=\"dataframe\">\n",
       "  <thead>\n",
       "    <tr style=\"text-align: right;\">\n",
       "      <th></th>\n",
       "      <th>S.no</th>\n",
       "      <th>Accel_X(f)</th>\n",
       "      <th>Accel_y(f)</th>\n",
       "      <th>Accel_z(f)</th>\n",
       "      <th>Accel_X(ri)</th>\n",
       "      <th>Accel_y(ri)</th>\n",
       "      <th>Accel_z(ri)</th>\n",
       "      <th>Accel_X(l)</th>\n",
       "      <th>Accel_y(l)</th>\n",
       "      <th>Accel_z(l)</th>\n",
       "      <th>Gyro_x(f)</th>\n",
       "      <th>Gyro_y(f)</th>\n",
       "      <th>Gyro_z(f)</th>\n",
       "      <th>Gyro_x(ri)</th>\n",
       "      <th>Gyro_y(ri)</th>\n",
       "      <th>Gyro_z(ri)</th>\n",
       "      <th>Gyro_x(l)</th>\n",
       "      <th>Gyro_y(l)</th>\n",
       "      <th>Gyro_z(l)</th>\n",
       "      <th>Force</th>\n",
       "    </tr>\n",
       "  </thead>\n",
       "  <tbody>\n",
       "    <tr>\n",
       "      <th>0</th>\n",
       "      <td>1</td>\n",
       "      <td>-11899.689024</td>\n",
       "      <td>2216.658537</td>\n",
       "      <td>-3744.195122</td>\n",
       "      <td>13158.423077</td>\n",
       "      <td>8613.817308</td>\n",
       "      <td>5393.884615</td>\n",
       "      <td>-13045.510204</td>\n",
       "      <td>2214.020408</td>\n",
       "      <td>-5478.897959</td>\n",
       "      <td>-306.701220</td>\n",
       "      <td>-357.073171</td>\n",
       "      <td>-774.243902</td>\n",
       "      <td>-185.461538</td>\n",
       "      <td>292.634615</td>\n",
       "      <td>71.634615</td>\n",
       "      <td>528.979592</td>\n",
       "      <td>520.454082</td>\n",
       "      <td>-353.198980</td>\n",
       "      <td>768.0478</td>\n",
       "    </tr>\n",
       "    <tr>\n",
       "      <th>1</th>\n",
       "      <td>2</td>\n",
       "      <td>-13941.373494</td>\n",
       "      <td>2508.963855</td>\n",
       "      <td>-4122.240964</td>\n",
       "      <td>11340.184615</td>\n",
       "      <td>8450.717949</td>\n",
       "      <td>6058.051282</td>\n",
       "      <td>13941.672316</td>\n",
       "      <td>3471.977000</td>\n",
       "      <td>-3702.621469</td>\n",
       "      <td>-445.259036</td>\n",
       "      <td>286.897590</td>\n",
       "      <td>44.813253</td>\n",
       "      <td>-251.358974</td>\n",
       "      <td>33.774359</td>\n",
       "      <td>375.030769</td>\n",
       "      <td>128.033898</td>\n",
       "      <td>-71.983051</td>\n",
       "      <td>-65.372881</td>\n",
       "      <td>694.2300</td>\n",
       "    </tr>\n",
       "    <tr>\n",
       "      <th>2</th>\n",
       "      <td>3</td>\n",
       "      <td>-12547.962963</td>\n",
       "      <td>1361.234568</td>\n",
       "      <td>-6075.555556</td>\n",
       "      <td>9107.570621</td>\n",
       "      <td>10053.587571</td>\n",
       "      <td>4318.960452</td>\n",
       "      <td>-12859.951807</td>\n",
       "      <td>3837.469880</td>\n",
       "      <td>-4204.144578</td>\n",
       "      <td>-77.141975</td>\n",
       "      <td>586.154321</td>\n",
       "      <td>-224.500000</td>\n",
       "      <td>-161.090395</td>\n",
       "      <td>221.638418</td>\n",
       "      <td>281.627119</td>\n",
       "      <td>-173.349000</td>\n",
       "      <td>-162.753012</td>\n",
       "      <td>-377.138554</td>\n",
       "      <td>679.6300</td>\n",
       "    </tr>\n",
       "    <tr>\n",
       "      <th>3</th>\n",
       "      <td>4</td>\n",
       "      <td>-12665.590278</td>\n",
       "      <td>816.166667</td>\n",
       "      <td>-7267.944444</td>\n",
       "      <td>11358.660099</td>\n",
       "      <td>8585.256158</td>\n",
       "      <td>6005.714286</td>\n",
       "      <td>-13697.440000</td>\n",
       "      <td>3567.471264</td>\n",
       "      <td>-3454.574713</td>\n",
       "      <td>-266.388889</td>\n",
       "      <td>640.375000</td>\n",
       "      <td>150.437500</td>\n",
       "      <td>-229.142857</td>\n",
       "      <td>88.635468</td>\n",
       "      <td>327.413793</td>\n",
       "      <td>-581.212644</td>\n",
       "      <td>341.718391</td>\n",
       "      <td>-130.810345</td>\n",
       "      <td>622.5600</td>\n",
       "    </tr>\n",
       "    <tr>\n",
       "      <th>4</th>\n",
       "      <td>5</td>\n",
       "      <td>-13931.266272</td>\n",
       "      <td>1572.710059</td>\n",
       "      <td>-4480.828402</td>\n",
       "      <td>11712.122449</td>\n",
       "      <td>8967.841837</td>\n",
       "      <td>6396.653061</td>\n",
       "      <td>-15088.837209</td>\n",
       "      <td>3401.302326</td>\n",
       "      <td>238.139535</td>\n",
       "      <td>-374.976331</td>\n",
       "      <td>-0.449704</td>\n",
       "      <td>-418.846154</td>\n",
       "      <td>-305.484694</td>\n",
       "      <td>35.188776</td>\n",
       "      <td>280.321429</td>\n",
       "      <td>75.238372</td>\n",
       "      <td>113.616279</td>\n",
       "      <td>-109.709302</td>\n",
       "      <td>524.8200</td>\n",
       "    </tr>\n",
       "  </tbody>\n",
       "</table>\n",
       "</div>"
      ],
      "text/plain": [
       "   S.no    Accel_X(f)   Accel_y(f)   Accel_z(f)   Accel_X(ri)   Accel_y(ri)  \\\n",
       "0     1 -11899.689024  2216.658537 -3744.195122  13158.423077   8613.817308   \n",
       "1     2 -13941.373494  2508.963855 -4122.240964  11340.184615   8450.717949   \n",
       "2     3 -12547.962963  1361.234568 -6075.555556   9107.570621  10053.587571   \n",
       "3     4 -12665.590278   816.166667 -7267.944444  11358.660099   8585.256158   \n",
       "4     5 -13931.266272  1572.710059 -4480.828402  11712.122449   8967.841837   \n",
       "\n",
       "   Accel_z(ri)    Accel_X(l)   Accel_y(l)   Accel_z(l)   Gyro_x(f)  \\\n",
       "0  5393.884615 -13045.510204  2214.020408 -5478.897959 -306.701220   \n",
       "1  6058.051282  13941.672316  3471.977000 -3702.621469 -445.259036   \n",
       "2  4318.960452 -12859.951807  3837.469880 -4204.144578  -77.141975   \n",
       "3  6005.714286 -13697.440000  3567.471264 -3454.574713 -266.388889   \n",
       "4  6396.653061 -15088.837209  3401.302326   238.139535 -374.976331   \n",
       "\n",
       "    Gyro_y(f)   Gyro_z(f)  Gyro_x(ri)  Gyro_y(ri)  Gyro_z(ri)   Gyro_x(l)  \\\n",
       "0 -357.073171 -774.243902 -185.461538  292.634615   71.634615  528.979592   \n",
       "1  286.897590   44.813253 -251.358974   33.774359  375.030769  128.033898   \n",
       "2  586.154321 -224.500000 -161.090395  221.638418  281.627119 -173.349000   \n",
       "3  640.375000  150.437500 -229.142857   88.635468  327.413793 -581.212644   \n",
       "4   -0.449704 -418.846154 -305.484694   35.188776  280.321429   75.238372   \n",
       "\n",
       "    Gyro_y(l)   Gyro_z(l)     Force  \n",
       "0  520.454082 -353.198980  768.0478  \n",
       "1  -71.983051  -65.372881  694.2300  \n",
       "2 -162.753012 -377.138554  679.6300  \n",
       "3  341.718391 -130.810345  622.5600  \n",
       "4  113.616279 -109.709302  524.8200  "
      ]
     },
     "execution_count": 81,
     "metadata": {},
     "output_type": "execute_result"
    }
   ],
   "source": [
    "df.head()"
   ]
  },
  {
   "cell_type": "code",
   "execution_count": 87,
   "metadata": {
    "collapsed": true
   },
   "outputs": [],
   "source": [
    "df=df.iloc[:,1:]"
   ]
  },
  {
   "cell_type": "code",
   "execution_count": 7,
   "metadata": {
    "collapsed": true
   },
   "outputs": [],
   "source": [
    "from sklearn.preprocessing import MinMaxScaler"
   ]
  },
  {
   "cell_type": "code",
   "execution_count": 8,
   "metadata": {
    "collapsed": true
   },
   "outputs": [],
   "source": [
    "from sklearn.model_selection import train_test_split"
   ]
  },
  {
   "cell_type": "code",
   "execution_count": 83,
   "metadata": {
    "collapsed": true
   },
   "outputs": [],
   "source": [
    "scaler=MinMaxScaler(feature_range=(0, 1))"
   ]
  },
  {
   "cell_type": "code",
   "execution_count": 84,
   "metadata": {
    "collapsed": true
   },
   "outputs": [],
   "source": [
    "X=scaler.fit_transform(df)"
   ]
  },
  {
   "cell_type": "code",
   "execution_count": 13,
   "metadata": {
    "collapsed": false
   },
   "outputs": [],
   "source": [
    "arr_mean=df.mean()"
   ]
  },
  {
   "cell_type": "code",
   "execution_count": 53,
   "metadata": {
    "collapsed": false
   },
   "outputs": [],
   "source": [
    "arr=df.values"
   ]
  },
  {
   "cell_type": "code",
   "execution_count": 41,
   "metadata": {
    "collapsed": false
   },
   "outputs": [],
   "source": [
    "import numpy as np"
   ]
  },
  {
   "cell_type": "code",
   "execution_count": 51,
   "metadata": {
    "collapsed": false
   },
   "outputs": [],
   "source": [
    "def set_y(arr,arr_mean):\n",
    "    y=[]\n",
    "    for i in range(0,39):\n",
    "        count=0\n",
    "        for j in range(0,19):\n",
    "            if (arr[i][j] >= 0.8*arr_mean[j] and arr[i][j] <= 1.2*arr_mean[j]):\n",
    "                count+=1\n",
    "        if(count>=10):\n",
    "            y[i].append(1)\n",
    "        else:\n",
    "            y[i].append(0)\n",
    "    return y"
   ]
  },
  {
   "cell_type": "code",
   "execution_count": 50,
   "metadata": {
    "collapsed": false
   },
   "outputs": [
    {
     "ename": "IndexError",
     "evalue": "list index out of range",
     "output_type": "error",
     "traceback": [
      "\u001b[1;31m---------------------------------------------------------------------------\u001b[0m",
      "\u001b[1;31mIndexError\u001b[0m                                Traceback (most recent call last)",
      "\u001b[1;32m<ipython-input-50-1dad46b5e9ba>\u001b[0m in \u001b[0;36m<module>\u001b[1;34m()\u001b[0m\n\u001b[1;32m----> 1\u001b[1;33m \u001b[0mset_y\u001b[0m\u001b[1;33m(\u001b[0m\u001b[0marr\u001b[0m\u001b[1;33m,\u001b[0m\u001b[0marr_mean\u001b[0m\u001b[1;33m)\u001b[0m\u001b[1;33m\u001b[0m\u001b[0m\n\u001b[0m",
      "\u001b[1;32m<ipython-input-47-dd9df8b72773>\u001b[0m in \u001b[0;36mset_y\u001b[1;34m(arr, arr_mean)\u001b[0m\n\u001b[0;32m      9\u001b[0m             \u001b[0my\u001b[0m\u001b[1;33m[\u001b[0m\u001b[0mi\u001b[0m\u001b[1;33m]\u001b[0m\u001b[1;33m.\u001b[0m\u001b[0mappend\u001b[0m\u001b[1;33m(\u001b[0m\u001b[1;36m1\u001b[0m\u001b[1;33m)\u001b[0m\u001b[1;33m\u001b[0m\u001b[0m\n\u001b[0;32m     10\u001b[0m         \u001b[1;32melse\u001b[0m\u001b[1;33m:\u001b[0m\u001b[1;33m\u001b[0m\u001b[0m\n\u001b[1;32m---> 11\u001b[1;33m             \u001b[0my\u001b[0m\u001b[1;33m[\u001b[0m\u001b[0mi\u001b[0m\u001b[1;33m]\u001b[0m\u001b[1;33m.\u001b[0m\u001b[0mappend\u001b[0m\u001b[1;33m(\u001b[0m\u001b[1;36m0\u001b[0m\u001b[1;33m)\u001b[0m\u001b[1;33m\u001b[0m\u001b[0m\n\u001b[0m\u001b[0;32m     12\u001b[0m     \u001b[1;32mreturn\u001b[0m \u001b[0my\u001b[0m\u001b[1;33m\u001b[0m\u001b[0m\n",
      "\u001b[1;31mIndexError\u001b[0m: list index out of range"
     ]
    }
   ],
   "source": [
    "set_y(arr,arr_mean)"
   ]
  },
  {
   "cell_type": "code",
   "execution_count": 57,
   "metadata": {
    "collapsed": false
   },
   "outputs": [],
   "source": [
    "from sklearn.cluster import KMeans"
   ]
  },
  {
   "cell_type": "code",
   "execution_count": 61,
   "metadata": {
    "collapsed": true
   },
   "outputs": [],
   "source": [
    "kmeans=KMeans(n_clusters=2,init='k-means++',max_iter=300,n_init=10,random_state=0)"
   ]
  },
  {
   "cell_type": "code",
   "execution_count": 62,
   "metadata": {
    "collapsed": false
   },
   "outputs": [],
   "source": [
    "y_kmeans=kmeans.fit_predict(X)"
   ]
  },
  {
   "cell_type": "code",
   "execution_count": 63,
   "metadata": {
    "collapsed": false
   },
   "outputs": [
    {
     "data": {
      "text/plain": [
       "array([1, 0, 1, 1, 1, 0, 0, 1, 1, 1, 1, 1, 1, 0, 1, 1, 1, 1, 1, 1, 0, 0,\n",
       "       0, 1, 0, 0, 0, 0, 0, 1, 1, 1, 1, 0, 1, 1, 1, 0, 1])"
      ]
     },
     "execution_count": 63,
     "metadata": {},
     "output_type": "execute_result"
    }
   ],
   "source": [
    "y_kmeans"
   ]
  },
  {
   "cell_type": "code",
   "execution_count": 65,
   "metadata": {
    "collapsed": false
   },
   "outputs": [],
   "source": [
    "import matplotlib.pyplot as plt"
   ]
  },
  {
   "cell_type": "code",
   "execution_count": 66,
   "metadata": {
    "collapsed": false
   },
   "outputs": [
    {
     "data": {
      "text/plain": [
       "[<matplotlib.lines.Line2D at 0xfe4ac90>]"
      ]
     },
     "execution_count": 66,
     "metadata": {},
     "output_type": "execute_result"
    },
    {
     "data": {
      "image/png": "[encoded data removed]",
      "text/plain": [
       "<matplotlib.figure.Figure at 0xfe63d50>"
      ]
     },
     "metadata": {},
     "output_type": "display_data"
    }
   ],
   "source": [
    "plt.plot(y_kmeans)"
   ]
  },
  {
   "cell_type": "code",
   "execution_count": 68,
   "metadata": {
    "collapsed": false
   },
   "outputs": [],
   "source": [
    "y=pd.DataFrame(y_kmeans)"
   ]
  },
  {
   "cell_type": "code",
   "execution_count": 76,
   "metadata": {
    "collapsed": false
   },
   "outputs": [],
   "source": [
    "y.columns=['y']"
   ]
  },
  {
   "cell_type": "code",
   "execution_count": 77,
   "metadata": {
    "collapsed": false
   },
   "outputs": [
    {
     "data": {
      "text/plain": [
       "(39, 1)"
      ]
     },
     "execution_count": 77,
     "metadata": {},
     "output_type": "execute_result"
    }
   ],
   "source": [
    "y.shape"
   ]
  },
  {
   "cell_type": "code",
   "execution_count": 88,
   "metadata": {
    "collapsed": false
   },
   "outputs": [],
   "source": [
    "df2=df.add(y,fill_value=0)"
   ]
  },
  {
   "cell_type": "code",
   "execution_count": 89,
   "metadata": {
    "collapsed": false
   },
   "outputs": [
    {
     "data": {
      "text/html": [
       "<div>\n",
       "<style scoped>\n",
       "    .dataframe tbody tr th:only-of-type {\n",
       "        vertical-align: middle;\n",
       "    }\n",
       "\n",
       "    .dataframe tbody tr th {\n",
       "        vertical-align: top;\n",
       "    }\n",
       "\n",
       "    .dataframe thead th {\n",
       "        text-align: right;\n",
       "    }\n",
       "</style>\n",
       "<table border=\"1\" class=\"dataframe\">\n",
       "  <thead>\n",
       "    <tr style=\"text-align: right;\">\n",
       "      <th></th>\n",
       "      <th>Accel_X(f)</th>\n",
       "      <th>Accel_X(l)</th>\n",
       "      <th>Accel_X(ri)</th>\n",
       "      <th>Accel_y(f)</th>\n",
       "      <th>Accel_y(l)</th>\n",
       "      <th>Accel_y(ri)</th>\n",
       "      <th>Accel_z(f)</th>\n",
       "      <th>Accel_z(l)</th>\n",
       "      <th>Accel_z(ri)</th>\n",
       "      <th>Force</th>\n",
       "      <th>Gyro_x(f)</th>\n",
       "      <th>Gyro_x(l)</th>\n",
       "      <th>Gyro_x(ri)</th>\n",
       "      <th>Gyro_y(f)</th>\n",
       "      <th>Gyro_y(l)</th>\n",
       "      <th>Gyro_y(ri)</th>\n",
       "      <th>Gyro_z(f)</th>\n",
       "      <th>Gyro_z(l)</th>\n",
       "      <th>Gyro_z(ri)</th>\n",
       "      <th>y</th>\n",
       "    </tr>\n",
       "  </thead>\n",
       "  <tbody>\n",
       "    <tr>\n",
       "      <th>0</th>\n",
       "      <td>-11899.689024</td>\n",
       "      <td>-13045.510204</td>\n",
       "      <td>13158.423077</td>\n",
       "      <td>2216.658537</td>\n",
       "      <td>2214.020408</td>\n",
       "      <td>8613.817308</td>\n",
       "      <td>-3744.195122</td>\n",
       "      <td>-5478.897959</td>\n",
       "      <td>5393.884615</td>\n",
       "      <td>768.0478</td>\n",
       "      <td>-306.701220</td>\n",
       "      <td>528.979592</td>\n",
       "      <td>-185.461538</td>\n",
       "      <td>-357.073171</td>\n",
       "      <td>520.454082</td>\n",
       "      <td>292.634615</td>\n",
       "      <td>-774.243902</td>\n",
       "      <td>-353.198980</td>\n",
       "      <td>71.634615</td>\n",
       "      <td>1.0</td>\n",
       "    </tr>\n",
       "    <tr>\n",
       "      <th>1</th>\n",
       "      <td>-13941.373494</td>\n",
       "      <td>13941.672316</td>\n",
       "      <td>11340.184615</td>\n",
       "      <td>2508.963855</td>\n",
       "      <td>3471.977000</td>\n",
       "      <td>8450.717949</td>\n",
       "      <td>-4122.240964</td>\n",
       "      <td>-3702.621469</td>\n",
       "      <td>6058.051282</td>\n",
       "      <td>694.2300</td>\n",
       "      <td>-445.259036</td>\n",
       "      <td>128.033898</td>\n",
       "      <td>-251.358974</td>\n",
       "      <td>286.897590</td>\n",
       "      <td>-71.983051</td>\n",
       "      <td>33.774359</td>\n",
       "      <td>44.813253</td>\n",
       "      <td>-65.372881</td>\n",
       "      <td>375.030769</td>\n",
       "      <td>0.0</td>\n",
       "    </tr>\n",
       "    <tr>\n",
       "      <th>2</th>\n",
       "      <td>-12547.962963</td>\n",
       "      <td>-12859.951807</td>\n",
       "      <td>9107.570621</td>\n",
       "      <td>1361.234568</td>\n",
       "      <td>3837.469880</td>\n",
       "      <td>10053.587571</td>\n",
       "      <td>-6075.555556</td>\n",
       "      <td>-4204.144578</td>\n",
       "      <td>4318.960452</td>\n",
       "      <td>679.6300</td>\n",
       "      <td>-77.141975</td>\n",
       "      <td>-173.349000</td>\n",
       "      <td>-161.090395</td>\n",
       "      <td>586.154321</td>\n",
       "      <td>-162.753012</td>\n",
       "      <td>221.638418</td>\n",
       "      <td>-224.500000</td>\n",
       "      <td>-377.138554</td>\n",
       "      <td>281.627119</td>\n",
       "      <td>1.0</td>\n",
       "    </tr>\n",
       "    <tr>\n",
       "      <th>3</th>\n",
       "      <td>-12665.590278</td>\n",
       "      <td>-13697.440000</td>\n",
       "      <td>11358.660099</td>\n",
       "      <td>816.166667</td>\n",
       "      <td>3567.471264</td>\n",
       "      <td>8585.256158</td>\n",
       "      <td>-7267.944444</td>\n",
       "      <td>-3454.574713</td>\n",
       "      <td>6005.714286</td>\n",
       "      <td>622.5600</td>\n",
       "      <td>-266.388889</td>\n",
       "      <td>-581.212644</td>\n",
       "      <td>-229.142857</td>\n",
       "      <td>640.375000</td>\n",
       "      <td>341.718391</td>\n",
       "      <td>88.635468</td>\n",
       "      <td>150.437500</td>\n",
       "      <td>-130.810345</td>\n",
       "      <td>327.413793</td>\n",
       "      <td>1.0</td>\n",
       "    </tr>\n",
       "    <tr>\n",
       "      <th>4</th>\n",
       "      <td>-13931.266272</td>\n",
       "      <td>-15088.837209</td>\n",
       "      <td>11712.122449</td>\n",
       "      <td>1572.710059</td>\n",
       "      <td>3401.302326</td>\n",
       "      <td>8967.841837</td>\n",
       "      <td>-4480.828402</td>\n",
       "      <td>238.139535</td>\n",
       "      <td>6396.653061</td>\n",
       "      <td>524.8200</td>\n",
       "      <td>-374.976331</td>\n",
       "      <td>75.238372</td>\n",
       "      <td>-305.484694</td>\n",
       "      <td>-0.449704</td>\n",
       "      <td>113.616279</td>\n",
       "      <td>35.188776</td>\n",
       "      <td>-418.846154</td>\n",
       "      <td>-109.709302</td>\n",
       "      <td>280.321429</td>\n",
       "      <td>1.0</td>\n",
       "    </tr>\n",
       "  </tbody>\n",
       "</table>\n",
       "</div>"
      ],
      "text/plain": [
       "     Accel_X(f)    Accel_X(l)   Accel_X(ri)   Accel_y(f)   Accel_y(l)  \\\n",
       "0 -11899.689024 -13045.510204  13158.423077  2216.658537  2214.020408   \n",
       "1 -13941.373494  13941.672316  11340.184615  2508.963855  3471.977000   \n",
       "2 -12547.962963 -12859.951807   9107.570621  1361.234568  3837.469880   \n",
       "3 -12665.590278 -13697.440000  11358.660099   816.166667  3567.471264   \n",
       "4 -13931.266272 -15088.837209  11712.122449  1572.710059  3401.302326   \n",
       "\n",
       "    Accel_y(ri)   Accel_z(f)   Accel_z(l)  Accel_z(ri)     Force   Gyro_x(f)  \\\n",
       "0   8613.817308 -3744.195122 -5478.897959  5393.884615  768.0478 -306.701220   \n",
       "1   8450.717949 -4122.240964 -3702.621469  6058.051282  694.2300 -445.259036   \n",
       "2  10053.587571 -6075.555556 -4204.144578  4318.960452  679.6300  -77.141975   \n",
       "3   8585.256158 -7267.944444 -3454.574713  6005.714286  622.5600 -266.388889   \n",
       "4   8967.841837 -4480.828402   238.139535  6396.653061  524.8200 -374.976331   \n",
       "\n",
       "    Gyro_x(l)  Gyro_x(ri)   Gyro_y(f)   Gyro_y(l)  Gyro_y(ri)   Gyro_z(f)  \\\n",
       "0  528.979592 -185.461538 -357.073171  520.454082  292.634615 -774.243902   \n",
       "1  128.033898 -251.358974  286.897590  -71.983051   33.774359   44.813253   \n",
       "2 -173.349000 -161.090395  586.154321 -162.753012  221.638418 -224.500000   \n",
       "3 -581.212644 -229.142857  640.375000  341.718391   88.635468  150.437500   \n",
       "4   75.238372 -305.484694   -0.449704  113.616279   35.188776 -418.846154   \n",
       "\n",
       "    Gyro_z(l)  Gyro_z(ri)    y  \n",
       "0 -353.198980   71.634615  1.0  \n",
       "1  -65.372881  375.030769  0.0  \n",
       "2 -377.138554  281.627119  1.0  \n",
       "3 -130.810345  327.413793  1.0  \n",
       "4 -109.709302  280.321429  1.0  "
      ]
     },
     "execution_count": 89,
     "metadata": {},
     "output_type": "execute_result"
    }
   ],
   "source": [
    "df2.head()"
   ]
  },
  {
   "cell_type": "code",
   "execution_count": 90,
   "metadata": {
    "collapsed": true
   },
   "outputs": [],
   "source": [
    "df2.to_csv('final.csv')"
   ]
  },
  {
   "cell_type": "markdown",
   "metadata": {
    "collapsed": true
   },
   "source": [
    "# Logistic Regression"
   ]
  },
  {
   "cell_type": "code",
   "execution_count": 92,
   "metadata": {
    "collapsed": true
   },
   "outputs": [],
   "source": [
    "from sklearn.preprocessing import MinMaxScaler"
   ]
  },
  {
   "cell_type": "code",
   "execution_count": 93,
   "metadata": {
    "collapsed": true
   },
   "outputs": [],
   "source": [
    "MM=MinMaxScaler(feature_range=(0,1))"
   ]
  },
  {
   "cell_type": "code",
   "execution_count": 94,
   "metadata": {
    "collapsed": true
   },
   "outputs": [],
   "source": [
    "arr=df2.values"
   ]
  },
  {
   "cell_type": "code",
   "execution_count": 95,
   "metadata": {
    "collapsed": true
   },
   "outputs": [],
   "source": [
    "X=arr[:,:19]"
   ]
  },
  {
   "cell_type": "code",
   "execution_count": 96,
   "metadata": {
    "collapsed": true
   },
   "outputs": [],
   "source": [
    "y=arr[:,-1]"
   ]
  },
  {
   "cell_type": "code",
   "execution_count": 97,
   "metadata": {
    "collapsed": true
   },
   "outputs": [],
   "source": [
    "X=MM.fit_transform(X)"
   ]
  },
  {
   "cell_type": "code",
   "execution_count": 98,
   "metadata": {
    "collapsed": true
   },
   "outputs": [],
   "source": [
    "from sklearn.model_selection import train_test_split"
   ]
  },
  {
   "cell_type": "code",
   "execution_count": 100,
   "metadata": {
    "collapsed": false
   },
   "outputs": [],
   "source": [
    "X_train,X_test,y_train,y_test=train_test_split(X,y,test_size=0.2)"
   ]
  },
  {
   "cell_type": "code",
   "execution_count": 101,
   "metadata": {
    "collapsed": true
   },
   "outputs": [],
   "source": [
    "from sklearn.linear_model import LogisticRegression"
   ]
  },
  {
   "cell_type": "code",
   "execution_count": 109,
   "metadata": {
    "collapsed": true
   },
   "outputs": [],
   "source": [
    "logreg=LogisticRegression()"
   ]
  },
  {
   "cell_type": "code",
   "execution_count": 110,
   "metadata": {
    "collapsed": false
   },
   "outputs": [
    {
     "data": {
      "text/plain": [
       "LogisticRegression(C=1.0, class_weight=None, dual=False, fit_intercept=True,\n",
       "          intercept_scaling=1, max_iter=100, multi_class='ovr', n_jobs=1,\n",
       "          penalty='l2', random_state=None, solver='liblinear', tol=0.0001,\n",
       "          verbose=0, warm_start=False)"
      ]
     },
     "execution_count": 110,
     "metadata": {},
     "output_type": "execute_result"
    }
   ],
   "source": [
    "logreg.fit(X_train,y_train)"
   ]
  },
  {
   "cell_type": "code",
   "execution_count": 111,
   "metadata": {
    "collapsed": true
   },
   "outputs": [],
   "source": [
    "y_pred=logreg.predict(X_test)"
   ]
  },
  {
   "cell_type": "code",
   "execution_count": 112,
   "metadata": {
    "collapsed": true
   },
   "outputs": [],
   "source": [
    "from sklearn.metrics.classification import accuracy_score"
   ]
  },
  {
   "cell_type": "code",
   "execution_count": 113,
   "metadata": {
    "collapsed": false
   },
   "outputs": [
    {
     "data": {
      "text/plain": [
       "0.875"
      ]
     },
     "execution_count": 113,
     "metadata": {},
     "output_type": "execute_result"
    }
   ],
   "source": [
    "accuracy_score(y_test,y_pred)"
   ]
  },
  {
   "cell_type": "markdown",
   "metadata": {},
   "source": [
    "# KNN"
   ]
  },
  {
   "cell_type": "code",
   "execution_count": 107,
   "metadata": {
    "collapsed": true
   },
   "outputs": [],
   "source": [
    "from sklearn.neighbors import KNeighborsClassifier"
   ]
  },
  {
   "cell_type": "code",
   "execution_count": 108,
   "metadata": {
    "collapsed": true
   },
   "outputs": [],
   "source": [
    "knn=KNeighborsClassifier(n_neighbors=5,metric='minkowski',p=2)"
   ]
  },
  {
   "cell_type": "code",
   "execution_count": 114,
   "metadata": {
    "collapsed": false
   },
   "outputs": [
    {
     "data": {
      "text/plain": [
       "KNeighborsClassifier(algorithm='auto', leaf_size=30, metric='minkowski',\n",
       "           metric_params=None, n_jobs=1, n_neighbors=5, p=2,\n",
       "           weights='uniform')"
      ]
     },
     "execution_count": 114,
     "metadata": {},
     "output_type": "execute_result"
    }
   ],
   "source": [
    "knn.fit(X_train,y_train)"
   ]
  },
  {
   "cell_type": "code",
   "execution_count": 115,
   "metadata": {
    "collapsed": true
   },
   "outputs": [],
   "source": [
    "y_pred=knn.predict(X_test)"
   ]
  },
  {
   "cell_type": "code",
   "execution_count": 116,
   "metadata": {
    "collapsed": false
   },
   "outputs": [
    {
     "data": {
      "text/plain": [
       "0.875"
      ]
     },
     "execution_count": 116,
     "metadata": {},
     "output_type": "execute_result"
    }
   ],
   "source": [
    "accuracy_score(y_test,y_pred)"
   ]
  },
  {
   "cell_type": "markdown",
   "metadata": {},
   "source": [
    "# SVM"
   ]
  },
  {
   "cell_type": "code",
   "execution_count": 117,
   "metadata": {
    "collapsed": true
   },
   "outputs": [],
   "source": [
    "from sklearn.svm import SVC"
   ]
  },
  {
   "cell_type": "code",
   "execution_count": 118,
   "metadata": {
    "collapsed": false
   },
   "outputs": [
    {
     "data": {
      "text/plain": [
       "SVC(C=1.0, cache_size=200, class_weight=None, coef0=0.0,\n",
       "  decision_function_shape='ovr', degree=3, gamma='auto', kernel='linear',\n",
       "  max_iter=-1, probability=False, random_state=0, shrinking=True,\n",
       "  tol=0.001, verbose=False)"
      ]
     },
     "execution_count": 118,
     "metadata": {},
     "output_type": "execute_result"
    }
   ],
   "source": [
    "classifier = SVC(kernel = 'linear', random_state = 0)\n",
    "classifier.fit(X_train, y_train)"
   ]
  },
  {
   "cell_type": "code",
   "execution_count": 119,
   "metadata": {
    "collapsed": true
   },
   "outputs": [],
   "source": [
    "y_pred = classifier.predict(X_test)"
   ]
  },
  {
   "cell_type": "code",
   "execution_count": 120,
   "metadata": {
    "collapsed": true
   },
   "outputs": [],
   "source": [
    "from sklearn.metrics import confusion_matrix\n",
    "cm = confusion_matrix(y_test, y_pred)\n"
   ]
  },
  {
   "cell_type": "code",
   "execution_count": 122,
   "metadata": {
    "collapsed": false
   },
   "outputs": [
    {
     "data": {
      "text/plain": [
       "0.75"
      ]
     },
     "execution_count": 122,
     "metadata": {},
     "output_type": "execute_result"
    }
   ],
   "source": [
    "accuracy_score(y_test,y_pred)"
   ]
  },
  {
   "cell_type": "code",
   "execution_count": null,
   "metadata": {
    "collapsed": true
   },
   "outputs": [],
   "source": []
  }
 ],
 "metadata": {
  "kernelspec": {
   "display_name": "Python 3",
   "language": "python",
   "name": "python3"
  },
  "language_info": {
   "codemirror_mode": {
    "name": "ipython",
    "version": 3
   },
   "file_extension": ".py",
   "mimetype": "text/x-python",
   "name": "python",
   "nbconvert_exporter": "python",
   "pygments_lexer": "ipython3",
   "version": "3.6.4"
  }
 },
 "nbformat": 4,
 "nbformat_minor": 2
}
